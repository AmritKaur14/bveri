{
  "nbformat": 4,
  "nbformat_minor": 0,
  "metadata": {
    "colab": {
      "provenance": [],
      "authorship_tag": "ABX9TyMGTrCBq7HEVYgKjztqJahf",
      "include_colab_link": true
    },
    "kernelspec": {
      "name": "python3",
      "display_name": "Python 3"
    },
    "language_info": {
      "name": "python"
    }
  },
  "cells": [
    {
      "cell_type": "markdown",
      "metadata": {
        "id": "view-in-github",
        "colab_type": "text"
      },
      "source": [
        "<a href=\"https://colab.research.google.com/github/AmritKaur14/bveri-mini_project/blob/main/MiniProject.ipynb\" target=\"_parent\"><img src=\"https://colab.research.google.com/assets/colab-badge.svg\" alt=\"Open In Colab\"/></a>"
      ]
    },
    {
      "cell_type": "markdown",
      "source": [
        "# Counting Sea Turtles from Drone Images"
      ],
      "metadata": {
        "id": "ksXDwO5znStS"
      }
    },
    {
      "cell_type": "markdown",
      "source": [
        "## Introduction\n",
        "\n",
        "Text TBD"
      ],
      "metadata": {
        "id": "dTHDK2xknkMf"
      }
    },
    {
      "cell_type": "markdown",
      "source": [
        "## Data\n",
        "Tbd"
      ],
      "metadata": {
        "id": "jW9wOGkwoToi"
      }
    },
    {
      "cell_type": "code",
      "execution_count": null,
      "metadata": {
        "id": "cd1JSg04l_oS"
      },
      "outputs": [],
      "source": [
        "import numpy as np\n",
        "import pandas as pd"
      ]
    },
    {
      "cell_type": "markdown",
      "source": [
        "## Models\n",
        "\n",
        "tbd"
      ],
      "metadata": {
        "id": "ICfEd1DMoUXs"
      }
    },
    {
      "cell_type": "code",
      "source": [],
      "metadata": {
        "id": "34FdHKnKova3"
      },
      "execution_count": null,
      "outputs": []
    },
    {
      "cell_type": "markdown",
      "source": [
        "## Results\n",
        "\n",
        "tbd"
      ],
      "metadata": {
        "id": "Gmq3WAb4oT-s"
      }
    },
    {
      "cell_type": "code",
      "source": [],
      "metadata": {
        "id": "sQBljqafougi"
      },
      "execution_count": null,
      "outputs": []
    },
    {
      "cell_type": "markdown",
      "source": [
        "## Discussion\n",
        "\n",
        "tbd"
      ],
      "metadata": {
        "id": "ysGDT3eHoUol"
      }
    },
    {
      "cell_type": "code",
      "source": [],
      "metadata": {
        "id": "TomEp-kFmY3W"
      },
      "execution_count": null,
      "outputs": []
    }
  ]
}